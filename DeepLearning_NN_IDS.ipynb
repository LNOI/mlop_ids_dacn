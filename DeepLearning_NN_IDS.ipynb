{
  "cells": [
    {
      "cell_type": "markdown",
      "metadata": {
        "id": "view-in-github",
        "colab_type": "text"
      },
      "source": [
        "<a href=\"https://colab.research.google.com/github/LNOI/mlop_ids_dacn/blob/main/DeepLearning_NN_IDS.ipynb\" target=\"_parent\"><img src=\"https://colab.research.google.com/assets/colab-badge.svg\" alt=\"Open In Colab\"/></a>"
      ]
    },
    {
      "cell_type": "code",
      "execution_count": 1,
      "metadata": {
        "colab": {
          "base_uri": "https://localhost:8080/"
        },
        "id": "Hn3NSvZmM8hZ",
        "outputId": "1c995a24-3636-45d5-dd77-fd07bdd6c9e3"
      },
      "outputs": [
        {
          "output_type": "stream",
          "name": "stdout",
          "text": [
            "Looking in indexes: https://pypi.org/simple, https://us-python.pkg.dev/colab-wheels/public/simple/\n",
            "Requirement already satisfied: seaborn in /usr/local/lib/python3.8/dist-packages (0.11.2)\n",
            "Requirement already satisfied: matplotlib>=2.2 in /usr/local/lib/python3.8/dist-packages (from seaborn) (3.5.3)\n",
            "Requirement already satisfied: pandas>=0.23 in /usr/local/lib/python3.8/dist-packages (from seaborn) (1.3.5)\n",
            "Requirement already satisfied: scipy>=1.0 in /usr/local/lib/python3.8/dist-packages (from seaborn) (1.7.3)\n",
            "Requirement already satisfied: numpy>=1.15 in /usr/local/lib/python3.8/dist-packages (from seaborn) (1.22.4)\n",
            "Requirement already satisfied: packaging>=20.0 in /usr/local/lib/python3.8/dist-packages (from matplotlib>=2.2->seaborn) (23.0)\n",
            "Requirement already satisfied: kiwisolver>=1.0.1 in /usr/local/lib/python3.8/dist-packages (from matplotlib>=2.2->seaborn) (1.4.4)\n",
            "Requirement already satisfied: fonttools>=4.22.0 in /usr/local/lib/python3.8/dist-packages (from matplotlib>=2.2->seaborn) (4.38.0)\n",
            "Requirement already satisfied: python-dateutil>=2.7 in /usr/local/lib/python3.8/dist-packages (from matplotlib>=2.2->seaborn) (2.8.2)\n",
            "Requirement already satisfied: pyparsing>=2.2.1 in /usr/local/lib/python3.8/dist-packages (from matplotlib>=2.2->seaborn) (3.0.9)\n",
            "Requirement already satisfied: cycler>=0.10 in /usr/local/lib/python3.8/dist-packages (from matplotlib>=2.2->seaborn) (0.11.0)\n",
            "Requirement already satisfied: pillow>=6.2.0 in /usr/local/lib/python3.8/dist-packages (from matplotlib>=2.2->seaborn) (7.1.2)\n",
            "Requirement already satisfied: pytz>=2017.3 in /usr/local/lib/python3.8/dist-packages (from pandas>=0.23->seaborn) (2022.7.1)\n",
            "Requirement already satisfied: six>=1.5 in /usr/local/lib/python3.8/dist-packages (from python-dateutil>=2.7->matplotlib>=2.2->seaborn) (1.15.0)\n",
            "Looking in indexes: https://pypi.org/simple, https://us-python.pkg.dev/colab-wheels/public/simple/\n",
            "Requirement already satisfied: numpy in /usr/local/lib/python3.8/dist-packages (1.22.4)\n",
            "Looking in indexes: https://pypi.org/simple, https://us-python.pkg.dev/colab-wheels/public/simple/\n",
            "Requirement already satisfied: tensorflow in /usr/local/lib/python3.8/dist-packages (2.11.0)\n",
            "Requirement already satisfied: numpy>=1.20 in /usr/local/lib/python3.8/dist-packages (from tensorflow) (1.22.4)\n",
            "Requirement already satisfied: astunparse>=1.6.0 in /usr/local/lib/python3.8/dist-packages (from tensorflow) (1.6.3)\n",
            "Requirement already satisfied: packaging in /usr/local/lib/python3.8/dist-packages (from tensorflow) (23.0)\n",
            "Requirement already satisfied: tensorboard<2.12,>=2.11 in /usr/local/lib/python3.8/dist-packages (from tensorflow) (2.11.2)\n",
            "Requirement already satisfied: keras<2.12,>=2.11.0 in /usr/local/lib/python3.8/dist-packages (from tensorflow) (2.11.0)\n",
            "Requirement already satisfied: setuptools in /usr/local/lib/python3.8/dist-packages (from tensorflow) (57.4.0)\n",
            "Requirement already satisfied: wrapt>=1.11.0 in /usr/local/lib/python3.8/dist-packages (from tensorflow) (1.14.1)\n",
            "Requirement already satisfied: six>=1.12.0 in /usr/local/lib/python3.8/dist-packages (from tensorflow) (1.15.0)\n",
            "Requirement already satisfied: tensorflow-io-gcs-filesystem>=0.23.1 in /usr/local/lib/python3.8/dist-packages (from tensorflow) (0.30.0)\n",
            "Requirement already satisfied: termcolor>=1.1.0 in /usr/local/lib/python3.8/dist-packages (from tensorflow) (2.2.0)\n",
            "Requirement already satisfied: gast<=0.4.0,>=0.2.1 in /usr/local/lib/python3.8/dist-packages (from tensorflow) (0.4.0)\n",
            "Requirement already satisfied: libclang>=13.0.0 in /usr/local/lib/python3.8/dist-packages (from tensorflow) (15.0.6.1)\n",
            "Requirement already satisfied: protobuf<3.20,>=3.9.2 in /usr/local/lib/python3.8/dist-packages (from tensorflow) (3.19.6)\n",
            "Requirement already satisfied: grpcio<2.0,>=1.24.3 in /usr/local/lib/python3.8/dist-packages (from tensorflow) (1.51.1)\n",
            "Requirement already satisfied: h5py>=2.9.0 in /usr/local/lib/python3.8/dist-packages (from tensorflow) (3.1.0)\n",
            "Requirement already satisfied: flatbuffers>=2.0 in /usr/local/lib/python3.8/dist-packages (from tensorflow) (23.1.21)\n",
            "Requirement already satisfied: google-pasta>=0.1.1 in /usr/local/lib/python3.8/dist-packages (from tensorflow) (0.2.0)\n",
            "Requirement already satisfied: absl-py>=1.0.0 in /usr/local/lib/python3.8/dist-packages (from tensorflow) (1.4.0)\n",
            "Requirement already satisfied: typing-extensions>=3.6.6 in /usr/local/lib/python3.8/dist-packages (from tensorflow) (4.5.0)\n",
            "Requirement already satisfied: opt-einsum>=2.3.2 in /usr/local/lib/python3.8/dist-packages (from tensorflow) (3.3.0)\n",
            "Requirement already satisfied: tensorflow-estimator<2.12,>=2.11.0 in /usr/local/lib/python3.8/dist-packages (from tensorflow) (2.11.0)\n",
            "Requirement already satisfied: wheel<1.0,>=0.23.0 in /usr/local/lib/python3.8/dist-packages (from astunparse>=1.6.0->tensorflow) (0.38.4)\n",
            "Requirement already satisfied: markdown>=2.6.8 in /usr/local/lib/python3.8/dist-packages (from tensorboard<2.12,>=2.11->tensorflow) (3.4.1)\n",
            "Requirement already satisfied: werkzeug>=1.0.1 in /usr/local/lib/python3.8/dist-packages (from tensorboard<2.12,>=2.11->tensorflow) (1.0.1)\n",
            "Requirement already satisfied: google-auth-oauthlib<0.5,>=0.4.1 in /usr/local/lib/python3.8/dist-packages (from tensorboard<2.12,>=2.11->tensorflow) (0.4.6)\n",
            "Requirement already satisfied: google-auth<3,>=1.6.3 in /usr/local/lib/python3.8/dist-packages (from tensorboard<2.12,>=2.11->tensorflow) (2.16.1)\n",
            "Requirement already satisfied: tensorboard-data-server<0.7.0,>=0.6.0 in /usr/local/lib/python3.8/dist-packages (from tensorboard<2.12,>=2.11->tensorflow) (0.6.1)\n",
            "Requirement already satisfied: tensorboard-plugin-wit>=1.6.0 in /usr/local/lib/python3.8/dist-packages (from tensorboard<2.12,>=2.11->tensorflow) (1.8.1)\n",
            "Requirement already satisfied: requests<3,>=2.21.0 in /usr/local/lib/python3.8/dist-packages (from tensorboard<2.12,>=2.11->tensorflow) (2.25.1)\n",
            "Requirement already satisfied: pyasn1-modules>=0.2.1 in /usr/local/lib/python3.8/dist-packages (from google-auth<3,>=1.6.3->tensorboard<2.12,>=2.11->tensorflow) (0.2.8)\n",
            "Requirement already satisfied: rsa<5,>=3.1.4 in /usr/local/lib/python3.8/dist-packages (from google-auth<3,>=1.6.3->tensorboard<2.12,>=2.11->tensorflow) (4.9)\n",
            "Requirement already satisfied: cachetools<6.0,>=2.0.0 in /usr/local/lib/python3.8/dist-packages (from google-auth<3,>=1.6.3->tensorboard<2.12,>=2.11->tensorflow) (5.3.0)\n",
            "Requirement already satisfied: requests-oauthlib>=0.7.0 in /usr/local/lib/python3.8/dist-packages (from google-auth-oauthlib<0.5,>=0.4.1->tensorboard<2.12,>=2.11->tensorflow) (1.3.1)\n",
            "Requirement already satisfied: importlib-metadata>=4.4 in /usr/local/lib/python3.8/dist-packages (from markdown>=2.6.8->tensorboard<2.12,>=2.11->tensorflow) (6.0.0)\n",
            "Requirement already satisfied: urllib3<1.27,>=1.21.1 in /usr/local/lib/python3.8/dist-packages (from requests<3,>=2.21.0->tensorboard<2.12,>=2.11->tensorflow) (1.24.3)\n",
            "Requirement already satisfied: idna<3,>=2.5 in /usr/local/lib/python3.8/dist-packages (from requests<3,>=2.21.0->tensorboard<2.12,>=2.11->tensorflow) (2.10)\n",
            "Requirement already satisfied: chardet<5,>=3.0.2 in /usr/local/lib/python3.8/dist-packages (from requests<3,>=2.21.0->tensorboard<2.12,>=2.11->tensorflow) (4.0.0)\n",
            "Requirement already satisfied: certifi>=2017.4.17 in /usr/local/lib/python3.8/dist-packages (from requests<3,>=2.21.0->tensorboard<2.12,>=2.11->tensorflow) (2022.12.7)\n",
            "Requirement already satisfied: zipp>=0.5 in /usr/local/lib/python3.8/dist-packages (from importlib-metadata>=4.4->markdown>=2.6.8->tensorboard<2.12,>=2.11->tensorflow) (3.14.0)\n",
            "Requirement already satisfied: pyasn1<0.5.0,>=0.4.6 in /usr/local/lib/python3.8/dist-packages (from pyasn1-modules>=0.2.1->google-auth<3,>=1.6.3->tensorboard<2.12,>=2.11->tensorflow) (0.4.8)\n",
            "Requirement already satisfied: oauthlib>=3.0.0 in /usr/local/lib/python3.8/dist-packages (from requests-oauthlib>=0.7.0->google-auth-oauthlib<0.5,>=0.4.1->tensorboard<2.12,>=2.11->tensorflow) (3.2.2)\n",
            "Looking in indexes: https://pypi.org/simple, https://us-python.pkg.dev/colab-wheels/public/simple/\n",
            "Requirement already satisfied: keras in /usr/local/lib/python3.8/dist-packages (2.11.0)\n",
            "Looking in indexes: https://pypi.org/simple, https://us-python.pkg.dev/colab-wheels/public/simple/\n",
            "Collecting wget\n",
            "  Downloading wget-3.2.zip (10 kB)\n",
            "  Preparing metadata (setup.py) ... \u001b[?25l\u001b[?25hdone\n",
            "Building wheels for collected packages: wget\n",
            "  Building wheel for wget (setup.py) ... \u001b[?25l\u001b[?25hdone\n",
            "  Created wheel for wget: filename=wget-3.2-py3-none-any.whl size=9674 sha256=d38ece038b0cd14930cb8760ab0e4947e2e355c5f7fa04967d0dee6313fbcef2\n",
            "  Stored in directory: /root/.cache/pip/wheels/bd/a8/c3/3cf2c14a1837a4e04bd98631724e81f33f462d86a1d895fae0\n",
            "Successfully built wget\n",
            "Installing collected packages: wget\n",
            "Successfully installed wget-3.2\n"
          ]
        }
      ],
      "source": [
        "!pip install  seaborn\n",
        "!pip install numpy\n",
        "!pip install tensorflow\n",
        "!pip install keras\n",
        "!pip install wget\n",
        "import os\n",
        "import pandas as pd\n",
        "import numpy as np\n",
        "import matplotlib.pyplot as plt\n",
        "import seaborn as sns\n",
        "import time\n",
        "import wget\n",
        "from sklearn.model_selection import train_test_split\n",
        "from sklearn.preprocessing import MinMaxScaler\n",
        "from sklearn.metrics import accuracy_score\n",
        "import numpy as np\n",
        "import matplotlib.pyplot as plt\n",
        "import tensorflow as tf\n",
        "from tensorflow import keras\n"
      ]
    },
    {
      "cell_type": "code",
      "execution_count": 6,
      "metadata": {
        "colab": {
          "base_uri": "https://localhost:8080/"
        },
        "id": "V2QRhB9-NTek",
        "outputId": "d8eb29fa-0371-46b1-d63e-13bebb9a7bd7"
      },
      "outputs": [
        {
          "output_type": "stream",
          "name": "stdout",
          "text": [
            "42\n"
          ]
        }
      ],
      "source": [
        "cols=\"\"\"duration,\n",
        "protocol_type,\n",
        "service,\n",
        "flag,\n",
        "src_bytes,\n",
        "dst_bytes,\n",
        "land,\n",
        "wrong_fragment,\n",
        "urgent,\n",
        "hot,\n",
        "num_failed_logins,\n",
        "logged_in,\n",
        "num_compromised,\n",
        "root_shell,\n",
        "su_attempted,\n",
        "num_root,\n",
        "num_file_creations,\n",
        "num_shells,\n",
        "num_access_files,\n",
        "num_outbound_cmds,\n",
        "is_host_login,\n",
        "is_guest_login,\n",
        "count,\n",
        "srv_count,\n",
        "serror_rate,\n",
        "srv_serror_rate,\n",
        "rerror_rate,\n",
        "srv_rerror_rate,\n",
        "same_srv_rate,\n",
        "diff_srv_rate,\n",
        "srv_diff_host_rate,\n",
        "dst_host_count,\n",
        "dst_host_srv_count,\n",
        "dst_host_same_srv_rate,\n",
        "dst_host_diff_srv_rate,\n",
        "dst_host_same_src_port_rate,\n",
        "dst_host_srv_diff_host_rate,\n",
        "dst_host_serror_rate,\n",
        "dst_host_srv_serror_rate,\n",
        "dst_host_rerror_rate,\n",
        "dst_host_srv_rerror_rate\"\"\"\n",
        "\n",
        "columns=[]\n",
        "for c in cols.split(','):\n",
        "    if(c.strip()):\n",
        "       columns.append(c.strip())\n",
        "\n",
        "columns.append('target')\n",
        "print(len(columns))\n"
      ]
    },
    {
      "cell_type": "code",
      "execution_count": 7,
      "metadata": {
        "id": "vrtUUQ-gNZnh"
      },
      "outputs": [],
      "source": [
        "attacks_types = {\n",
        "    'normal': 'normal',\n",
        "'back': 'dos',\n",
        "'buffer_overflow': 'u2r',\n",
        "'ftp_write': 'r2l',\n",
        "'guess_passwd': 'r2l',\n",
        "'imap': 'r2l',\n",
        "'ipsweep': 'probe',\n",
        "'land': 'dos',\n",
        "'loadmodule': 'u2r',\n",
        "'multihop': 'r2l',\n",
        "'neptune': 'dos',\n",
        "'nmap': 'probe',\n",
        "'perl': 'u2r',\n",
        "'phf': 'r2l',\n",
        "'pod': 'dos',\n",
        "'portsweep': 'probe',\n",
        "'rootkit': 'u2r',\n",
        "'satan': 'probe',\n",
        "'smurf': 'dos',\n",
        "'spy': 'r2l',\n",
        "'teardrop': 'dos',\n",
        "'warezclient': 'r2l',\n",
        "'warezmaster': 'r2l',\n",
        "}"
      ]
    },
    {
      "cell_type": "code",
      "execution_count": 8,
      "metadata": {
        "colab": {
          "base_uri": "https://localhost:8080/",
          "height": 317
        },
        "id": "L6NzWgnhNb5l",
        "outputId": "22dd8c7f-41b1-461c-e8c1-6401bc199dd0"
      },
      "outputs": [
        {
          "output_type": "execute_result",
          "data": {
            "text/plain": [
              "   duration protocol_type service flag  src_bytes  dst_bytes  land  \\\n",
              "0         0           tcp    http   SF        181       5450     0   \n",
              "1         0           tcp    http   SF        239        486     0   \n",
              "2         0           tcp    http   SF        235       1337     0   \n",
              "3         0           tcp    http   SF        219       1337     0   \n",
              "4         0           tcp    http   SF        217       2032     0   \n",
              "\n",
              "   wrong_fragment  urgent  hot  ...  dst_host_same_srv_rate  \\\n",
              "0               0       0    0  ...                     1.0   \n",
              "1               0       0    0  ...                     1.0   \n",
              "2               0       0    0  ...                     1.0   \n",
              "3               0       0    0  ...                     1.0   \n",
              "4               0       0    0  ...                     1.0   \n",
              "\n",
              "   dst_host_diff_srv_rate  dst_host_same_src_port_rate  \\\n",
              "0                     0.0                         0.11   \n",
              "1                     0.0                         0.05   \n",
              "2                     0.0                         0.03   \n",
              "3                     0.0                         0.03   \n",
              "4                     0.0                         0.02   \n",
              "\n",
              "   dst_host_srv_diff_host_rate  dst_host_serror_rate  \\\n",
              "0                          0.0                   0.0   \n",
              "1                          0.0                   0.0   \n",
              "2                          0.0                   0.0   \n",
              "3                          0.0                   0.0   \n",
              "4                          0.0                   0.0   \n",
              "\n",
              "   dst_host_srv_serror_rate  dst_host_rerror_rate  dst_host_srv_rerror_rate  \\\n",
              "0                       0.0                   0.0                       0.0   \n",
              "1                       0.0                   0.0                       0.0   \n",
              "2                       0.0                   0.0                       0.0   \n",
              "3                       0.0                   0.0                       0.0   \n",
              "4                       0.0                   0.0                       0.0   \n",
              "\n",
              "    target  Attack Type  \n",
              "0  normal.       normal  \n",
              "1  normal.       normal  \n",
              "2  normal.       normal  \n",
              "3  normal.       normal  \n",
              "4  normal.       normal  \n",
              "\n",
              "[5 rows x 43 columns]"
            ],
            "text/html": [
              "\n",
              "  <div id=\"df-beded0c0-b3e4-4fbf-9bc4-d9654afb0bae\">\n",
              "    <div class=\"colab-df-container\">\n",
              "      <div>\n",
              "<style scoped>\n",
              "    .dataframe tbody tr th:only-of-type {\n",
              "        vertical-align: middle;\n",
              "    }\n",
              "\n",
              "    .dataframe tbody tr th {\n",
              "        vertical-align: top;\n",
              "    }\n",
              "\n",
              "    .dataframe thead th {\n",
              "        text-align: right;\n",
              "    }\n",
              "</style>\n",
              "<table border=\"1\" class=\"dataframe\">\n",
              "  <thead>\n",
              "    <tr style=\"text-align: right;\">\n",
              "      <th></th>\n",
              "      <th>duration</th>\n",
              "      <th>protocol_type</th>\n",
              "      <th>service</th>\n",
              "      <th>flag</th>\n",
              "      <th>src_bytes</th>\n",
              "      <th>dst_bytes</th>\n",
              "      <th>land</th>\n",
              "      <th>wrong_fragment</th>\n",
              "      <th>urgent</th>\n",
              "      <th>hot</th>\n",
              "      <th>...</th>\n",
              "      <th>dst_host_same_srv_rate</th>\n",
              "      <th>dst_host_diff_srv_rate</th>\n",
              "      <th>dst_host_same_src_port_rate</th>\n",
              "      <th>dst_host_srv_diff_host_rate</th>\n",
              "      <th>dst_host_serror_rate</th>\n",
              "      <th>dst_host_srv_serror_rate</th>\n",
              "      <th>dst_host_rerror_rate</th>\n",
              "      <th>dst_host_srv_rerror_rate</th>\n",
              "      <th>target</th>\n",
              "      <th>Attack Type</th>\n",
              "    </tr>\n",
              "  </thead>\n",
              "  <tbody>\n",
              "    <tr>\n",
              "      <th>0</th>\n",
              "      <td>0</td>\n",
              "      <td>tcp</td>\n",
              "      <td>http</td>\n",
              "      <td>SF</td>\n",
              "      <td>181</td>\n",
              "      <td>5450</td>\n",
              "      <td>0</td>\n",
              "      <td>0</td>\n",
              "      <td>0</td>\n",
              "      <td>0</td>\n",
              "      <td>...</td>\n",
              "      <td>1.0</td>\n",
              "      <td>0.0</td>\n",
              "      <td>0.11</td>\n",
              "      <td>0.0</td>\n",
              "      <td>0.0</td>\n",
              "      <td>0.0</td>\n",
              "      <td>0.0</td>\n",
              "      <td>0.0</td>\n",
              "      <td>normal.</td>\n",
              "      <td>normal</td>\n",
              "    </tr>\n",
              "    <tr>\n",
              "      <th>1</th>\n",
              "      <td>0</td>\n",
              "      <td>tcp</td>\n",
              "      <td>http</td>\n",
              "      <td>SF</td>\n",
              "      <td>239</td>\n",
              "      <td>486</td>\n",
              "      <td>0</td>\n",
              "      <td>0</td>\n",
              "      <td>0</td>\n",
              "      <td>0</td>\n",
              "      <td>...</td>\n",
              "      <td>1.0</td>\n",
              "      <td>0.0</td>\n",
              "      <td>0.05</td>\n",
              "      <td>0.0</td>\n",
              "      <td>0.0</td>\n",
              "      <td>0.0</td>\n",
              "      <td>0.0</td>\n",
              "      <td>0.0</td>\n",
              "      <td>normal.</td>\n",
              "      <td>normal</td>\n",
              "    </tr>\n",
              "    <tr>\n",
              "      <th>2</th>\n",
              "      <td>0</td>\n",
              "      <td>tcp</td>\n",
              "      <td>http</td>\n",
              "      <td>SF</td>\n",
              "      <td>235</td>\n",
              "      <td>1337</td>\n",
              "      <td>0</td>\n",
              "      <td>0</td>\n",
              "      <td>0</td>\n",
              "      <td>0</td>\n",
              "      <td>...</td>\n",
              "      <td>1.0</td>\n",
              "      <td>0.0</td>\n",
              "      <td>0.03</td>\n",
              "      <td>0.0</td>\n",
              "      <td>0.0</td>\n",
              "      <td>0.0</td>\n",
              "      <td>0.0</td>\n",
              "      <td>0.0</td>\n",
              "      <td>normal.</td>\n",
              "      <td>normal</td>\n",
              "    </tr>\n",
              "    <tr>\n",
              "      <th>3</th>\n",
              "      <td>0</td>\n",
              "      <td>tcp</td>\n",
              "      <td>http</td>\n",
              "      <td>SF</td>\n",
              "      <td>219</td>\n",
              "      <td>1337</td>\n",
              "      <td>0</td>\n",
              "      <td>0</td>\n",
              "      <td>0</td>\n",
              "      <td>0</td>\n",
              "      <td>...</td>\n",
              "      <td>1.0</td>\n",
              "      <td>0.0</td>\n",
              "      <td>0.03</td>\n",
              "      <td>0.0</td>\n",
              "      <td>0.0</td>\n",
              "      <td>0.0</td>\n",
              "      <td>0.0</td>\n",
              "      <td>0.0</td>\n",
              "      <td>normal.</td>\n",
              "      <td>normal</td>\n",
              "    </tr>\n",
              "    <tr>\n",
              "      <th>4</th>\n",
              "      <td>0</td>\n",
              "      <td>tcp</td>\n",
              "      <td>http</td>\n",
              "      <td>SF</td>\n",
              "      <td>217</td>\n",
              "      <td>2032</td>\n",
              "      <td>0</td>\n",
              "      <td>0</td>\n",
              "      <td>0</td>\n",
              "      <td>0</td>\n",
              "      <td>...</td>\n",
              "      <td>1.0</td>\n",
              "      <td>0.0</td>\n",
              "      <td>0.02</td>\n",
              "      <td>0.0</td>\n",
              "      <td>0.0</td>\n",
              "      <td>0.0</td>\n",
              "      <td>0.0</td>\n",
              "      <td>0.0</td>\n",
              "      <td>normal.</td>\n",
              "      <td>normal</td>\n",
              "    </tr>\n",
              "  </tbody>\n",
              "</table>\n",
              "<p>5 rows × 43 columns</p>\n",
              "</div>\n",
              "      <button class=\"colab-df-convert\" onclick=\"convertToInteractive('df-beded0c0-b3e4-4fbf-9bc4-d9654afb0bae')\"\n",
              "              title=\"Convert this dataframe to an interactive table.\"\n",
              "              style=\"display:none;\">\n",
              "        \n",
              "  <svg xmlns=\"http://www.w3.org/2000/svg\" height=\"24px\"viewBox=\"0 0 24 24\"\n",
              "       width=\"24px\">\n",
              "    <path d=\"M0 0h24v24H0V0z\" fill=\"none\"/>\n",
              "    <path d=\"M18.56 5.44l.94 2.06.94-2.06 2.06-.94-2.06-.94-.94-2.06-.94 2.06-2.06.94zm-11 1L8.5 8.5l.94-2.06 2.06-.94-2.06-.94L8.5 2.5l-.94 2.06-2.06.94zm10 10l.94 2.06.94-2.06 2.06-.94-2.06-.94-.94-2.06-.94 2.06-2.06.94z\"/><path d=\"M17.41 7.96l-1.37-1.37c-.4-.4-.92-.59-1.43-.59-.52 0-1.04.2-1.43.59L10.3 9.45l-7.72 7.72c-.78.78-.78 2.05 0 2.83L4 21.41c.39.39.9.59 1.41.59.51 0 1.02-.2 1.41-.59l7.78-7.78 2.81-2.81c.8-.78.8-2.07 0-2.86zM5.41 20L4 18.59l7.72-7.72 1.47 1.35L5.41 20z\"/>\n",
              "  </svg>\n",
              "      </button>\n",
              "      \n",
              "  <style>\n",
              "    .colab-df-container {\n",
              "      display:flex;\n",
              "      flex-wrap:wrap;\n",
              "      gap: 12px;\n",
              "    }\n",
              "\n",
              "    .colab-df-convert {\n",
              "      background-color: #E8F0FE;\n",
              "      border: none;\n",
              "      border-radius: 50%;\n",
              "      cursor: pointer;\n",
              "      display: none;\n",
              "      fill: #1967D2;\n",
              "      height: 32px;\n",
              "      padding: 0 0 0 0;\n",
              "      width: 32px;\n",
              "    }\n",
              "\n",
              "    .colab-df-convert:hover {\n",
              "      background-color: #E2EBFA;\n",
              "      box-shadow: 0px 1px 2px rgba(60, 64, 67, 0.3), 0px 1px 3px 1px rgba(60, 64, 67, 0.15);\n",
              "      fill: #174EA6;\n",
              "    }\n",
              "\n",
              "    [theme=dark] .colab-df-convert {\n",
              "      background-color: #3B4455;\n",
              "      fill: #D2E3FC;\n",
              "    }\n",
              "\n",
              "    [theme=dark] .colab-df-convert:hover {\n",
              "      background-color: #434B5C;\n",
              "      box-shadow: 0px 1px 3px 1px rgba(0, 0, 0, 0.15);\n",
              "      filter: drop-shadow(0px 1px 2px rgba(0, 0, 0, 0.3));\n",
              "      fill: #FFFFFF;\n",
              "    }\n",
              "  </style>\n",
              "\n",
              "      <script>\n",
              "        const buttonEl =\n",
              "          document.querySelector('#df-beded0c0-b3e4-4fbf-9bc4-d9654afb0bae button.colab-df-convert');\n",
              "        buttonEl.style.display =\n",
              "          google.colab.kernel.accessAllowed ? 'block' : 'none';\n",
              "\n",
              "        async function convertToInteractive(key) {\n",
              "          const element = document.querySelector('#df-beded0c0-b3e4-4fbf-9bc4-d9654afb0bae');\n",
              "          const dataTable =\n",
              "            await google.colab.kernel.invokeFunction('convertToInteractive',\n",
              "                                                     [key], {});\n",
              "          if (!dataTable) return;\n",
              "\n",
              "          const docLinkHtml = 'Like what you see? Visit the ' +\n",
              "            '<a target=\"_blank\" href=https://colab.research.google.com/notebooks/data_table.ipynb>data table notebook</a>'\n",
              "            + ' to learn more about interactive tables.';\n",
              "          element.innerHTML = '';\n",
              "          dataTable['output_type'] = 'display_data';\n",
              "          await google.colab.output.renderOutput(dataTable, element);\n",
              "          const docLink = document.createElement('div');\n",
              "          docLink.innerHTML = docLinkHtml;\n",
              "          element.appendChild(docLink);\n",
              "        }\n",
              "      </script>\n",
              "    </div>\n",
              "  </div>\n",
              "  "
            ]
          },
          "metadata": {},
          "execution_count": 8
        }
      ],
      "source": [
        "# path = \"http://kdd.ics.uci.edu/databases/kddcup99/kddcup.data_10_percent.gz\"\n",
        "# wget.download(path)\n",
        "df = pd.read_csv('kddcup.data_10_percent.gz',names=columns)\n",
        "\n",
        "#Adding Attack Type column\n",
        "df['Attack Type'] = df.target.apply(lambda r:attacks_types[r[:-1]])\n",
        "\n",
        "df.head()"
      ]
    },
    {
      "cell_type": "code",
      "execution_count": null,
      "metadata": {
        "colab": {
          "base_uri": "https://localhost:8080/"
        },
        "id": "CDXskkRqN6f0",
        "outputId": "b7a52a4e-097d-440c-8daa-5605428f622d"
      },
      "outputs": [
        {
          "data": {
            "text/plain": [
              "(494021, 43)"
            ]
          },
          "execution_count": 40,
          "metadata": {},
          "output_type": "execute_result"
        }
      ],
      "source": [
        "df.shape"
      ]
    },
    {
      "cell_type": "code",
      "execution_count": 9,
      "metadata": {
        "colab": {
          "base_uri": "https://localhost:8080/"
        },
        "id": "ykTBP25FN7Hy",
        "outputId": "65dbdf4f-abb9-49e3-9cf3-a7771dc5b386"
      },
      "outputs": [
        {
          "output_type": "execute_result",
          "data": {
            "text/plain": [
              "smurf.              280790\n",
              "neptune.            107201\n",
              "normal.              97278\n",
              "back.                 2203\n",
              "satan.                1589\n",
              "ipsweep.              1247\n",
              "portsweep.            1040\n",
              "warezclient.          1020\n",
              "teardrop.              979\n",
              "pod.                   264\n",
              "nmap.                  231\n",
              "guess_passwd.           53\n",
              "buffer_overflow.        30\n",
              "land.                   21\n",
              "warezmaster.            20\n",
              "imap.                   12\n",
              "rootkit.                10\n",
              "loadmodule.              9\n",
              "ftp_write.               8\n",
              "multihop.                7\n",
              "phf.                     4\n",
              "perl.                    3\n",
              "spy.                     2\n",
              "Name: target, dtype: int64"
            ]
          },
          "metadata": {},
          "execution_count": 9
        }
      ],
      "source": [
        "df['target'].value_counts()"
      ]
    },
    {
      "cell_type": "code",
      "execution_count": null,
      "metadata": {
        "colab": {
          "base_uri": "https://localhost:8080/"
        },
        "id": "1ubOs6fxN95x",
        "outputId": "d77bb7da-7462-4a99-9993-468ff65f5661"
      },
      "outputs": [
        {
          "data": {
            "text/plain": [
              "dos       391458\n",
              "normal     97278\n",
              "probe       4107\n",
              "r2l         1126\n",
              "u2r           52\n",
              "Name: Attack Type, dtype: int64"
            ]
          },
          "execution_count": 10,
          "metadata": {},
          "output_type": "execute_result"
        }
      ],
      "source": [
        "df['Attack Type'].value_counts()"
      ]
    },
    {
      "cell_type": "code",
      "execution_count": null,
      "metadata": {
        "colab": {
          "base_uri": "https://localhost:8080/"
        },
        "id": "x7idFyKBOBAs",
        "outputId": "49592c29-71f2-42a8-c527-7b54ae34f2f9"
      },
      "outputs": [
        {
          "data": {
            "text/plain": [
              "duration                         int64\n",
              "protocol_type                   object\n",
              "service                         object\n",
              "flag                            object\n",
              "src_bytes                        int64\n",
              "dst_bytes                        int64\n",
              "land                             int64\n",
              "wrong_fragment                   int64\n",
              "urgent                           int64\n",
              "hot                              int64\n",
              "num_failed_logins                int64\n",
              "logged_in                        int64\n",
              "num_compromised                  int64\n",
              "root_shell                       int64\n",
              "su_attempted                     int64\n",
              "num_root                         int64\n",
              "num_file_creations               int64\n",
              "num_shells                       int64\n",
              "num_access_files                 int64\n",
              "num_outbound_cmds                int64\n",
              "is_host_login                    int64\n",
              "is_guest_login                   int64\n",
              "count                            int64\n",
              "srv_count                        int64\n",
              "serror_rate                    float64\n",
              "srv_serror_rate                float64\n",
              "rerror_rate                    float64\n",
              "srv_rerror_rate                float64\n",
              "same_srv_rate                  float64\n",
              "diff_srv_rate                  float64\n",
              "srv_diff_host_rate             float64\n",
              "dst_host_count                   int64\n",
              "dst_host_srv_count               int64\n",
              "dst_host_same_srv_rate         float64\n",
              "dst_host_diff_srv_rate         float64\n",
              "dst_host_same_src_port_rate    float64\n",
              "dst_host_srv_diff_host_rate    float64\n",
              "dst_host_serror_rate           float64\n",
              "dst_host_srv_serror_rate       float64\n",
              "dst_host_rerror_rate           float64\n",
              "dst_host_srv_rerror_rate       float64\n",
              "target                          object\n",
              "Attack Type                     object\n",
              "dtype: object"
            ]
          },
          "execution_count": 11,
          "metadata": {},
          "output_type": "execute_result"
        }
      ],
      "source": [
        "df.dtypes"
      ]
    },
    {
      "cell_type": "code",
      "execution_count": null,
      "metadata": {
        "colab": {
          "base_uri": "https://localhost:8080/"
        },
        "id": "0TGU_zjdOEv1",
        "outputId": "e54de4d7-6201-47e9-fdcf-2f0161f1c36d"
      },
      "outputs": [
        {
          "data": {
            "text/plain": [
              "duration                       0\n",
              "protocol_type                  0\n",
              "service                        0\n",
              "flag                           0\n",
              "src_bytes                      0\n",
              "dst_bytes                      0\n",
              "land                           0\n",
              "wrong_fragment                 0\n",
              "urgent                         0\n",
              "hot                            0\n",
              "num_failed_logins              0\n",
              "logged_in                      0\n",
              "num_compromised                0\n",
              "root_shell                     0\n",
              "su_attempted                   0\n",
              "num_root                       0\n",
              "num_file_creations             0\n",
              "num_shells                     0\n",
              "num_access_files               0\n",
              "num_outbound_cmds              0\n",
              "is_host_login                  0\n",
              "is_guest_login                 0\n",
              "count                          0\n",
              "srv_count                      0\n",
              "serror_rate                    0\n",
              "srv_serror_rate                0\n",
              "rerror_rate                    0\n",
              "srv_rerror_rate                0\n",
              "same_srv_rate                  0\n",
              "diff_srv_rate                  0\n",
              "srv_diff_host_rate             0\n",
              "dst_host_count                 0\n",
              "dst_host_srv_count             0\n",
              "dst_host_same_srv_rate         0\n",
              "dst_host_diff_srv_rate         0\n",
              "dst_host_same_src_port_rate    0\n",
              "dst_host_srv_diff_host_rate    0\n",
              "dst_host_serror_rate           0\n",
              "dst_host_srv_serror_rate       0\n",
              "dst_host_rerror_rate           0\n",
              "dst_host_srv_rerror_rate       0\n",
              "target                         0\n",
              "Attack Type                    0\n",
              "dtype: int64"
            ]
          },
          "execution_count": 12,
          "metadata": {},
          "output_type": "execute_result"
        }
      ],
      "source": [
        "df.isnull().sum()"
      ]
    },
    {
      "cell_type": "code",
      "execution_count": 10,
      "metadata": {
        "colab": {
          "base_uri": "https://localhost:8080/"
        },
        "id": "HwHbNTZzOF8y",
        "outputId": "9ac275e1-214d-4ece-c858-4b64c34d0100"
      },
      "outputs": [
        {
          "output_type": "execute_result",
          "data": {
            "text/plain": [
              "['service', 'flag', 'protocol_type']"
            ]
          },
          "metadata": {},
          "execution_count": 10
        }
      ],
      "source": [
        "#Finding categorical features\n",
        "num_cols = df._get_numeric_data().columns\n",
        "\n",
        "cate_cols = list(set(df.columns)-set(num_cols))\n",
        "cate_cols.remove('target')\n",
        "cate_cols.remove('Attack Type')\n",
        "\n",
        "cate_cols"
      ]
    },
    {
      "cell_type": "code",
      "execution_count": null,
      "metadata": {
        "id": "k7fohjDDOIjS"
      },
      "outputs": [],
      "source": [
        "def bar_graph(feature):\n",
        "    df[feature].value_counts().plot(kind=\"bar\")"
      ]
    },
    {
      "cell_type": "code",
      "execution_count": null,
      "metadata": {
        "colab": {
          "base_uri": "https://localhost:8080/",
          "height": 280
        },
        "id": "1SFc6qDPOLIi",
        "outputId": "eca24555-7946-494c-84a4-3723cbf0cf78"
      },
      "outputs": [
        {
          "data": {
            "image/png": "[encoded data removed]",
            "text/plain": [
              "<Figure size 432x288 with 1 Axes>"
            ]
          },
          "metadata": {
            "needs_background": "light"
          },
          "output_type": "display_data"
        }
      ],
      "source": [
        "bar_graph('protocol_type')"
      ]
    },
    {
      "cell_type": "code",
      "execution_count": null,
      "metadata": {
        "colab": {
          "base_uri": "https://localhost:8080/",
          "height": 336
        },
        "id": "X1bzlnlTOMhb",
        "outputId": "9f3e0337-9514-4801-ba6c-4220a2751d7f"
      },
      "outputs": [
        {
          "data": {
            "image/png": "[encoded data removed]",
            "text/plain": [
              "<Figure size 432x288 with 1 Axes>"
            ]
          },
          "metadata": {
            "needs_background": "light"
          },
          "output_type": "display_data"
        }
      ],
      "source": [
        "bar_graph('target')"
      ]
    },
    {
      "cell_type": "code",
      "execution_count": null,
      "metadata": {
        "colab": {
          "base_uri": "https://localhost:8080/",
          "height": 290
        },
        "id": "DsHrIUN_OTyr",
        "outputId": "7400fded-3e79-4434-864c-91dc6aee201a"
      },
      "outputs": [
        {
          "data": {
            "image/png": "[encoded data removed]",
            "text/plain": [
              "<Figure size 432x288 with 1 Axes>"
            ]
          },
          "metadata": {
            "needs_background": "light"
          },
          "output_type": "display_data"
        }
      ],
      "source": [
        "bar_graph('Attack Type')"
      ]
    },
    {
      "cell_type": "code",
      "execution_count": 11,
      "metadata": {
        "colab": {
          "base_uri": "https://localhost:8080/",
          "height": 873
        },
        "id": "Vck7O24AOexQ",
        "outputId": "ae72a27e-51c6-4434-8479-d1f34c94dc30"
      },
      "outputs": [
        {
          "output_type": "stream",
          "name": "stderr",
          "text": [
            "<ipython-input-11-31c74935275d>:1: FutureWarning: In a future version of pandas all arguments of DataFrame.dropna will be keyword-only\n",
            "  df = df.dropna('columns')# drop columns with NaN\n"
          ]
        },
        {
          "output_type": "display_data",
          "data": {
            "text/plain": [
              "<Figure size 1080x864 with 2 Axes>"
            ],
            "image/png": "[encoded data removed]"
          },
          "metadata": {
            "needs_background": "light"
          }
        }
      ],
      "source": [
        "df = df.dropna('columns')# drop columns with NaN\n",
        "\n",
        "df = df[[col for col in df if df[col].nunique() > 1]]# keep columns where there are more than 1 unique values\n",
        "\n",
        "corr = df.corr()\n",
        "\n",
        "plt.figure(figsize=(15,12))\n",
        "\n",
        "sns.heatmap(corr)\n",
        "\n",
        "plt.show()"
      ]
    },
    {
      "cell_type": "code",
      "execution_count": 12,
      "metadata": {
        "id": "qWW94_ZPOhys"
      },
      "outputs": [],
      "source": [
        "\n",
        "df.drop('num_root',axis = 1,inplace = True)\n",
        "df.drop('srv_serror_rate',axis = 1,inplace = True)\n",
        "df.drop('srv_rerror_rate',axis = 1, inplace=True)\n",
        "df.drop('dst_host_srv_serror_rate',axis = 1, inplace=True)\n",
        "df.drop('dst_host_serror_rate',axis = 1, inplace=True)\n",
        "df.drop('dst_host_rerror_rate',axis = 1, inplace=True)\n",
        "df.drop('dst_host_srv_rerror_rate',axis = 1, inplace=True)\n",
        "df.drop('dst_host_same_srv_rate',axis = 1, inplace=True)"
      ]
    },
    {
      "cell_type": "code",
      "execution_count": 13,
      "metadata": {
        "colab": {
          "base_uri": "https://localhost:8080/"
        },
        "id": "bGydUaTFOp0c",
        "outputId": "ed4df6a0-aaaa-46c0-902c-8cbf7566884d"
      },
      "outputs": [
        {
          "output_type": "stream",
          "name": "stderr",
          "text": [
            "<ipython-input-13-2938f6df5f03>:1: FutureWarning: Dropping of nuisance columns in DataFrame reductions (with 'numeric_only=None') is deprecated; in a future version this will raise TypeError.  Select only valid columns before calling the reduction.\n",
            "  df_std = df.std()\n"
          ]
        },
        {
          "output_type": "execute_result",
          "data": {
            "text/plain": [
              "urgent                              0.005510\n",
              "land                                0.006673\n",
              "su_attempted                        0.007793\n",
              "root_shell                          0.010551\n",
              "num_shells                          0.011020\n",
              "num_failed_logins                   0.015520\n",
              "num_access_files                    0.036482\n",
              "is_guest_login                      0.037211\n",
              "dst_host_srv_diff_host_rate         0.042133\n",
              "diff_srv_rate                       0.082205\n",
              "num_file_creations                  0.096416\n",
              "dst_host_diff_srv_rate              0.109259\n",
              "wrong_fragment                      0.134805\n",
              "srv_diff_host_rate                  0.142397\n",
              "rerror_rate                         0.231623\n",
              "logged_in                           0.355345\n",
              "serror_rate                         0.380717\n",
              "same_srv_rate                       0.388189\n",
              "dst_host_same_src_port_rate         0.481309\n",
              "hot                                 0.782103\n",
              "num_compromised                     1.798326\n",
              "dst_host_count                     64.745380\n",
              "dst_host_srv_count                106.040437\n",
              "count                             213.147412\n",
              "srv_count                         246.322817\n",
              "duration                          707.746472\n",
              "dst_bytes                       33040.001252\n",
              "src_bytes                      988218.101050\n",
              "dtype: float64"
            ]
          },
          "metadata": {},
          "execution_count": 13
        }
      ],
      "source": [
        "df_std = df.std()\n",
        "df_std = df_std.sort_values(ascending = True)\n",
        "df_std"
      ]
    },
    {
      "cell_type": "code",
      "execution_count": null,
      "metadata": {
        "colab": {
          "base_uri": "https://localhost:8080/"
        },
        "id": "MjnUW1t8OrmO",
        "outputId": "00ac7925-cf3c-485e-f704-9c9145cfc3df"
      },
      "outputs": [
        {
          "data": {
            "text/plain": [
              "icmp    283602\n",
              "tcp     190065\n",
              "udp      20354\n",
              "Name: protocol_type, dtype: int64"
            ]
          },
          "execution_count": 22,
          "metadata": {},
          "output_type": "execute_result"
        }
      ],
      "source": [
        "df['protocol_type'].value_counts()"
      ]
    },
    {
      "cell_type": "code",
      "execution_count": 14,
      "metadata": {
        "id": "uOSbud9dOuZp"
      },
      "outputs": [],
      "source": [
        "#protocol_type feature mapping\n",
        "pmap = {'icmp':0,'tcp':1,'udp':2}\n",
        "df['protocol_type'] = df['protocol_type'].map(pmap)"
      ]
    },
    {
      "cell_type": "code",
      "execution_count": null,
      "metadata": {
        "colab": {
          "base_uri": "https://localhost:8080/"
        },
        "id": "LxPl8WrFOvAa",
        "outputId": "afc81234-d935-42ad-d1ec-1a9c149b0968"
      },
      "outputs": [
        {
          "data": {
            "text/plain": [
              "SF        378440\n",
              "S0         87007\n",
              "REJ        26875\n",
              "RSTR         903\n",
              "RSTO         579\n",
              "SH           107\n",
              "S1            57\n",
              "S2            24\n",
              "RSTOS0        11\n",
              "S3            10\n",
              "OTH            8\n",
              "Name: flag, dtype: int64"
            ]
          },
          "execution_count": 47,
          "metadata": {},
          "output_type": "execute_result"
        }
      ],
      "source": [
        "df['flag'].value_counts()"
      ]
    },
    {
      "cell_type": "code",
      "execution_count": 15,
      "metadata": {
        "id": "zuuJEbOKOwbc"
      },
      "outputs": [],
      "source": [
        "#flag feature mapping\n",
        "fmap = {'SF':0,'S0':1,'REJ':2,'RSTR':3,'RSTO':4,'SH':5 ,'S1':6 ,'S2':7,'RSTOS0':8,'S3':9 ,'OTH':10}\n",
        "df['flag'] = df['flag'].map(fmap)"
      ]
    },
    {
      "cell_type": "code",
      "execution_count": 16,
      "metadata": {
        "id": "ZIy1Gh8VOyXK"
      },
      "outputs": [],
      "source": [
        "df.drop('service',axis = 1,inplace= True)"
      ]
    },
    {
      "cell_type": "code",
      "execution_count": 17,
      "metadata": {
        "colab": {
          "base_uri": "https://localhost:8080/"
        },
        "id": "tp90OgiVOzpa",
        "outputId": "ab2e2e44-603b-42ad-fbe4-d18fbcfdcaca"
      },
      "outputs": [
        {
          "output_type": "stream",
          "name": "stdout",
          "text": [
            "(494021, 31)\n",
            "(330994, 30) (163027, 30)\n",
            "(330994,) (163027,)\n"
          ]
        },
        {
          "output_type": "stream",
          "name": "stderr",
          "text": [
            "/usr/local/lib/python3.8/dist-packages/sklearn/preprocessing/_label.py:115: DataConversionWarning: A column-vector y was passed when a 1d array was expected. Please change the shape of y to (n_samples, ), for example using ravel().\n",
            "  y = column_or_1d(y, warn=True)\n"
          ]
        }
      ],
      "source": [
        "from sklearn.preprocessing import LabelEncoder\n",
        "lb = LabelEncoder()\n",
        "\n",
        "df = df.drop(['target',], axis=1)\n",
        "print(df.shape)\n",
        "\n",
        "# Target variable and train set\n",
        "Y = df[['Attack Type']]\n",
        "X = df.drop(['Attack Type',], axis=1)\n",
        "\n",
        "sc = MinMaxScaler()\n",
        "X = sc.fit_transform(X)\n",
        "\n",
        "# Split test and train data \n",
        "\n",
        "X_train, X_test, Y_train, Y_test = train_test_split(X, Y, test_size=0.33, random_state=42)\n",
        "Y_train = lb.fit_transform(Y_train)\n",
        "Y_test = lb.fit_transform(Y_test)\n",
        "print(X_train.shape, X_test.shape)\n",
        "print(Y_train.shape, Y_test.shape)"
      ]
    },
    {
      "cell_type": "code",
      "execution_count": 19,
      "metadata": {
        "colab": {
          "base_uri": "https://localhost:8080/"
        },
        "id": "Z_ZkNvV_ZJGs",
        "outputId": "08102aa1-8b66-4422-fd2a-95cfdb40f232"
      },
      "outputs": [
        {
          "output_type": "stream",
          "name": "stdout",
          "text": [
            "Model: \"sequential_1\"\n",
            "_________________________________________________________________\n",
            " Layer (type)                Output Shape              Param #   \n",
            "=================================================================\n",
            " dense_3 (Dense)             (None, 30)                930       \n",
            "                                                                 \n",
            " dense_4 (Dense)             (None, 1)                 31        \n",
            "                                                                 \n",
            " dense_5 (Dense)             (None, 5)                 10        \n",
            "                                                                 \n",
            "=================================================================\n",
            "Total params: 971\n",
            "Trainable params: 971\n",
            "Non-trainable params: 0\n",
            "_________________________________________________________________\n"
          ]
        }
      ],
      "source": [
        "def f1_score(y_true, y_pred):\n",
        "    \"\"\"\n",
        "    Computes the F1 score given the true and predicted labels\n",
        "    \"\"\"\n",
        "    y_pred = tf.round(y_pred)\n",
        "    tp = tf.reduce_sum(tf.cast(tf.logical_and(tf.equal(y_true, 1), tf.equal(y_pred, 1)), tf.float32))\n",
        "    fp = tf.reduce_sum(tf.cast(tf.logical_and(tf.equal(y_true, 0), tf.equal(y_pred, 1)), tf.float32))\n",
        "    fn = tf.reduce_sum(tf.cast(tf.logical_and(tf.equal(y_true, 1), tf.equal(y_pred, 0)), tf.float32))\n",
        "    precision = tp / (tp + fp + tf.keras.backend.epsilon())\n",
        "    recall = tp / (tp + fn + tf.keras.backend.epsilon())\n",
        "    f1_score = 2 * precision * recall / (precision + recall + tf.keras.backend.epsilon())\n",
        "    return f1_score\n",
        "\n",
        "\n",
        "def recall(y_true, y_pred):\n",
        "    \"\"\"\n",
        "    Computes the Recall given the true and predicted labels\n",
        "    \"\"\"\n",
        "    y_pred = tf.round(y_pred)\n",
        "    tp = tf.reduce_sum(tf.cast(tf.logical_and(tf.equal(y_true, 1), tf.equal(y_pred, 1)), tf.float32))\n",
        "    fn = tf.reduce_sum(tf.cast(tf.logical_and(tf.equal(y_true, 1), tf.equal(y_pred, 0)), tf.float32))\n",
        "    recall = tp / (tp + fn + tf.keras.backend.epsilon())\n",
        "    return recall\n",
        "\n",
        "def precision(y_true, y_pred):\n",
        "    \"\"\"\n",
        "    Computes the Precision given the true and predicted labels\n",
        "    \"\"\"\n",
        "    y_pred = tf.round(y_pred)\n",
        "    tp = tf.reduce_sum(tf.cast(tf.logical_and(tf.equal(y_true, 1), tf.equal(y_pred, 1)), tf.float32))\n",
        "    fp = tf.reduce_sum(tf.cast(tf.logical_and(tf.equal(y_true, 0), tf.equal(y_pred, 1)), tf.float32))\n",
        "    precision = tp / (tp + fp + tf.keras.backend.epsilon())\n",
        "    return precision\n",
        "\n",
        "def create_model():\n",
        "    model = tf.keras.models.Sequential([\n",
        "        keras.layers.Dense(30, activation='relu', input_dim=30, kernel_initializer='random_uniform'),\n",
        "        keras.layers.Dense(1, activation='sigmoid', kernel_initializer='random_uniform'),\n",
        "        keras.layers.Dense(5, activation='softmax')\n",
        "    ])\n",
        "    model.compile(optimizer='adam',\n",
        "                  loss=tf.losses.SparseCategoricalCrossentropy(from_logits=True),\n",
        "                  metrics=[tf.metrics.SparseCategoricalAccuracy(),precision, f1_score, recall])\n",
        "    return model\n",
        "\n",
        "\n",
        "model = create_model()\n",
        "model.summary()"
      ]
    },
    {
      "cell_type": "code",
      "execution_count": null,
      "metadata": {
        "id": "gbpeQBHWaQtb"
      },
      "outputs": [],
      "source": [
        "checkpoint_path = \"training_1/cp.ckpt\"\n",
        "checkpoint_dir = os.path.dirname(checkpoint_path)\n",
        "\n",
        "# Create a callback that saves the model's weights\n",
        "cp_callback = tf.keras.callbacks.ModelCheckpoint(filepath=checkpoint_path,\n",
        "                                                 save_weights_only=True,\n",
        "                                                 verbose=1)"
      ]
    },
    {
      "cell_type": "code",
      "execution_count": null,
      "metadata": {
        "colab": {
          "base_uri": "https://localhost:8080/"
        },
        "id": "pkEFkw8vO8ST",
        "outputId": "85526ddd-b85e-4305-9e03-7b485a70d9fd"
      },
      "outputs": [
        {
          "metadata": {
            "tags": null
          },
          "name": "stdout",
          "output_type": "stream",
          "text": [
            "Epoch 1/100\n"
          ]
        },
        {
          "metadata": {
            "tags": null
          },
          "name": "stderr",
          "output_type": "stream",
          "text": [
            "/usr/local/lib/python3.8/dist-packages/keras/backend.py:5585: UserWarning: \"`sparse_categorical_crossentropy` received `from_logits=True`, but the `output` argument was produced by a Softmax activation and thus does not represent logits. Was this intended?\n",
            "  output, from_logits = _get_logits(\n"
          ]
        },
        {
          "output_type": "stream",
          "name": "stdout",
          "text": [
            "5172/5172 [==============================] - 16s 3ms/step - loss: 0.2974 - sparse_categorical_accuracy: 0.9448 - precision: 0.1308 - f1_score: 0.1290 - recall: 0.1315 - val_loss: 0.1003 - val_sparse_categorical_accuracy: 0.9845 - val_precision: 0.1994 - val_f1_score: 0.1965 - val_recall: 0.2000\n",
            "Epoch 2/100\n",
            "5172/5172 [==============================] - 15s 3ms/step - loss: 0.0814 - sparse_categorical_accuracy: 0.9845 - precision: 0.1988 - f1_score: 0.1961 - recall: 0.2000 - val_loss: 0.0736 - val_sparse_categorical_accuracy: 0.9845 - val_precision: 0.1994 - val_f1_score: 0.1965 - val_recall: 0.2000\n",
            "Epoch 3/100\n",
            "5172/5172 [==============================] - 15s 3ms/step - loss: 0.0710 - sparse_categorical_accuracy: 0.9846 - precision: 0.1988 - f1_score: 0.1962 - recall: 0.2000 - val_loss: 0.0699 - val_sparse_categorical_accuracy: 0.9846 - val_precision: 0.1995 - val_f1_score: 0.1965 - val_recall: 0.2000\n",
            "Epoch 4/100\n",
            "5172/5172 [==============================] - 16s 3ms/step - loss: 0.0675 - sparse_categorical_accuracy: 0.9846 - precision: 0.1988 - f1_score: 0.1962 - recall: 0.2000 - val_loss: 0.0668 - val_sparse_categorical_accuracy: 0.9845 - val_precision: 0.1995 - val_f1_score: 0.1965 - val_recall: 0.2000\n",
            "Epoch 5/100\n",
            "5172/5172 [==============================] - 19s 4ms/step - loss: 0.0642 - sparse_categorical_accuracy: 0.9845 - precision: 0.1988 - f1_score: 0.1961 - recall: 0.2000 - val_loss: 0.0626 - val_sparse_categorical_accuracy: 0.9845 - val_precision: 0.1994 - val_f1_score: 0.1964 - val_recall: 0.1999\n",
            "Epoch 6/100\n",
            "5172/5172 [==============================] - 24s 5ms/step - loss: 0.0610 - sparse_categorical_accuracy: 0.9845 - precision: 0.1988 - f1_score: 0.1961 - recall: 0.1999 - val_loss: 0.0602 - val_sparse_categorical_accuracy: 0.9846 - val_precision: 0.1994 - val_f1_score: 0.1964 - val_recall: 0.1999\n",
            "Epoch 7/100\n",
            "5172/5172 [==============================] - 15s 3ms/step - loss: 0.0596 - sparse_categorical_accuracy: 0.9846 - precision: 0.1988 - f1_score: 0.1961 - recall: 0.1999 - val_loss: 0.0591 - val_sparse_categorical_accuracy: 0.9846 - val_precision: 0.1994 - val_f1_score: 0.1964 - val_recall: 0.2000\n",
            "Epoch 8/100\n",
            "5172/5172 [==============================] - 17s 3ms/step - loss: 0.0587 - sparse_categorical_accuracy: 0.9846 - precision: 0.1988 - f1_score: 0.1963 - recall: 0.1999 - val_loss: 0.0582 - val_sparse_categorical_accuracy: 0.9846 - val_precision: 0.1994 - val_f1_score: 0.1964 - val_recall: 0.1999\n",
            "Epoch 9/100\n",
            "5172/5172 [==============================] - 16s 3ms/step - loss: 0.0581 - sparse_categorical_accuracy: 0.9846 - precision: 0.1988 - f1_score: 0.1961 - recall: 0.1999 - val_loss: 0.0578 - val_sparse_categorical_accuracy: 0.9845 - val_precision: 0.1995 - val_f1_score: 0.1965 - val_recall: 0.2000\n",
            "Epoch 10/100\n",
            "5172/5172 [==============================] - 17s 3ms/step - loss: 0.0575 - sparse_categorical_accuracy: 0.9846 - precision: 0.1988 - f1_score: 0.1961 - recall: 0.1999 - val_loss: 0.0575 - val_sparse_categorical_accuracy: 0.9845 - val_precision: 0.1994 - val_f1_score: 0.1964 - val_recall: 0.1999\n",
            "Epoch 11/100\n",
            "5172/5172 [==============================] - 17s 3ms/step - loss: 0.0571 - sparse_categorical_accuracy: 0.9846 - precision: 0.1988 - f1_score: 0.1959 - recall: 0.1999 - val_loss: 0.0568 - val_sparse_categorical_accuracy: 0.9845 - val_precision: 0.1994 - val_f1_score: 0.1964 - val_recall: 0.1999\n",
            "Epoch 12/100\n",
            "5172/5172 [==============================] - 15s 3ms/step - loss: 0.0568 - sparse_categorical_accuracy: 0.9846 - precision: 0.1988 - f1_score: 0.1961 - recall: 0.1999 - val_loss: 0.0573 - val_sparse_categorical_accuracy: 0.9845 - val_precision: 0.1994 - val_f1_score: 0.1964 - val_recall: 0.2000\n",
            "Epoch 13/100\n",
            "5172/5172 [==============================] - 16s 3ms/step - loss: 0.0565 - sparse_categorical_accuracy: 0.9846 - precision: 0.1988 - f1_score: 0.1960 - recall: 0.1999 - val_loss: 0.0565 - val_sparse_categorical_accuracy: 0.9845 - val_precision: 0.1993 - val_f1_score: 0.1963 - val_recall: 0.1998\n",
            "Epoch 14/100\n",
            "5172/5172 [==============================] - 15s 3ms/step - loss: 0.0562 - sparse_categorical_accuracy: 0.9846 - precision: 0.1987 - f1_score: 0.1961 - recall: 0.1999 - val_loss: 0.0560 - val_sparse_categorical_accuracy: 0.9845 - val_precision: 0.1994 - val_f1_score: 0.1964 - val_recall: 0.1999\n",
            "Epoch 15/100\n",
            "5172/5172 [==============================] - 15s 3ms/step - loss: 0.0561 - sparse_categorical_accuracy: 0.9846 - precision: 0.1988 - f1_score: 0.1960 - recall: 0.1999 - val_loss: 0.0558 - val_sparse_categorical_accuracy: 0.9846 - val_precision: 0.1994 - val_f1_score: 0.1963 - val_recall: 0.1999\n",
            "Epoch 16/100\n",
            "5172/5172 [==============================] - 16s 3ms/step - loss: 0.0559 - sparse_categorical_accuracy: 0.9846 - precision: 0.1988 - f1_score: 0.1961 - recall: 0.1999 - val_loss: 0.0555 - val_sparse_categorical_accuracy: 0.9846 - val_precision: 0.1994 - val_f1_score: 0.1964 - val_recall: 0.1999\n",
            "Epoch 17/100\n",
            "5172/5172 [==============================] - 16s 3ms/step - loss: 0.0557 - sparse_categorical_accuracy: 0.9846 - precision: 0.1988 - f1_score: 0.1959 - recall: 0.1999 - val_loss: 0.0556 - val_sparse_categorical_accuracy: 0.9846 - val_precision: 0.1994 - val_f1_score: 0.1964 - val_recall: 0.1999\n",
            "Epoch 18/100\n",
            "5172/5172 [==============================] - 16s 3ms/step - loss: 0.0552 - sparse_categorical_accuracy: 0.9846 - precision: 0.1988 - f1_score: 0.1962 - recall: 0.1999 - val_loss: 0.0550 - val_sparse_categorical_accuracy: 0.9846 - val_precision: 0.1994 - val_f1_score: 0.1964 - val_recall: 0.1999\n",
            "Epoch 19/100\n",
            "5172/5172 [==============================] - 15s 3ms/step - loss: 0.0543 - sparse_categorical_accuracy: 0.9847 - precision: 0.1988 - f1_score: 0.1960 - recall: 0.1999 - val_loss: 0.0543 - val_sparse_categorical_accuracy: 0.9848 - val_precision: 0.1994 - val_f1_score: 0.1964 - val_recall: 0.2000\n",
            "Epoch 20/100\n",
            "5172/5172 [==============================] - 15s 3ms/step - loss: 0.0535 - sparse_categorical_accuracy: 0.9849 - precision: 0.1988 - f1_score: 0.1960 - recall: 0.1999 - val_loss: 0.0530 - val_sparse_categorical_accuracy: 0.9848 - val_precision: 0.1994 - val_f1_score: 0.1964 - val_recall: 0.1999\n",
            "Epoch 21/100\n",
            "5172/5172 [==============================] - 22s 4ms/step - loss: 0.0527 - sparse_categorical_accuracy: 0.9851 - precision: 0.1988 - f1_score: 0.1961 - recall: 0.1999 - val_loss: 0.0523 - val_sparse_categorical_accuracy: 0.9852 - val_precision: 0.1994 - val_f1_score: 0.1964 - val_recall: 0.1999\n",
            "Epoch 22/100\n",
            "5172/5172 [==============================] - 16s 3ms/step - loss: 0.0520 - sparse_categorical_accuracy: 0.9856 - precision: 0.1988 - f1_score: 0.1961 - recall: 0.1999 - val_loss: 0.0518 - val_sparse_categorical_accuracy: 0.9849 - val_precision: 0.1994 - val_f1_score: 0.1964 - val_recall: 0.1999\n",
            "Epoch 23/100\n",
            "5172/5172 [==============================] - 16s 3ms/step - loss: 0.0514 - sparse_categorical_accuracy: 0.9857 - precision: 0.1988 - f1_score: 0.1962 - recall: 0.1999 - val_loss: 0.0512 - val_sparse_categorical_accuracy: 0.9859 - val_precision: 0.1994 - val_f1_score: 0.1964 - val_recall: 0.1999\n",
            "Epoch 24/100\n",
            "5172/5172 [==============================] - 15s 3ms/step - loss: 0.0511 - sparse_categorical_accuracy: 0.9862 - precision: 0.1988 - f1_score: 0.1961 - recall: 0.1999 - val_loss: 0.0510 - val_sparse_categorical_accuracy: 0.9848 - val_precision: 0.1994 - val_f1_score: 0.1964 - val_recall: 0.1999\n",
            "Epoch 25/100\n",
            "5172/5172 [==============================] - 17s 3ms/step - loss: 0.0508 - sparse_categorical_accuracy: 0.9859 - precision: 0.1988 - f1_score: 0.1961 - recall: 0.1999 - val_loss: 0.0506 - val_sparse_categorical_accuracy: 0.9888 - val_precision: 0.1994 - val_f1_score: 0.1964 - val_recall: 0.1999\n",
            "Epoch 26/100\n",
            "5172/5172 [==============================] - 17s 3ms/step - loss: 0.0505 - sparse_categorical_accuracy: 0.9861 - precision: 0.1988 - f1_score: 0.1962 - recall: 0.1999 - val_loss: 0.0504 - val_sparse_categorical_accuracy: 0.9894 - val_precision: 0.1994 - val_f1_score: 0.1963 - val_recall: 0.1999\n",
            "Epoch 27/100\n",
            "5172/5172 [==============================] - 16s 3ms/step - loss: 0.0503 - sparse_categorical_accuracy: 0.9869 - precision: 0.1988 - f1_score: 0.1961 - recall: 0.1999 - val_loss: 0.0502 - val_sparse_categorical_accuracy: 0.9858 - val_precision: 0.1994 - val_f1_score: 0.1964 - val_recall: 0.1999\n",
            "Epoch 28/100\n",
            "5172/5172 [==============================] - 15s 3ms/step - loss: 0.0502 - sparse_categorical_accuracy: 0.9871 - precision: 0.1988 - f1_score: 0.1961 - recall: 0.1999 - val_loss: 0.0501 - val_sparse_categorical_accuracy: 0.9878 - val_precision: 0.1994 - val_f1_score: 0.1964 - val_recall: 0.2000\n",
            "Epoch 29/100\n",
            "5172/5172 [==============================] - 17s 3ms/step - loss: 0.0499 - sparse_categorical_accuracy: 0.9870 - precision: 0.1988 - f1_score: 0.1960 - recall: 0.1999 - val_loss: 0.0500 - val_sparse_categorical_accuracy: 0.9878 - val_precision: 0.1994 - val_f1_score: 0.1964 - val_recall: 0.1999\n",
            "Epoch 30/100\n",
            "5172/5172 [==============================] - 15s 3ms/step - loss: 0.0497 - sparse_categorical_accuracy: 0.9878 - precision: 0.1988 - f1_score: 0.1961 - recall: 0.1999 - val_loss: 0.0498 - val_sparse_categorical_accuracy: 0.9889 - val_precision: 0.1993 - val_f1_score: 0.1963 - val_recall: 0.1998\n",
            "Epoch 31/100\n",
            "5172/5172 [==============================] - 17s 3ms/step - loss: 0.0497 - sparse_categorical_accuracy: 0.9882 - precision: 0.1988 - f1_score: 0.1960 - recall: 0.1999 - val_loss: 0.0495 - val_sparse_categorical_accuracy: 0.9906 - val_precision: 0.1994 - val_f1_score: 0.1964 - val_recall: 0.2000\n",
            "Epoch 32/100\n",
            "5172/5172 [==============================] - 17s 3ms/step - loss: 0.0494 - sparse_categorical_accuracy: 0.9881 - precision: 0.1988 - f1_score: 0.1961 - recall: 0.1999 - val_loss: 0.0494 - val_sparse_categorical_accuracy: 0.9902 - val_precision: 0.1994 - val_f1_score: 0.1964 - val_recall: 0.2000\n",
            "Epoch 33/100\n",
            "5172/5172 [==============================] - 15s 3ms/step - loss: 0.0493 - sparse_categorical_accuracy: 0.9896 - precision: 0.1988 - f1_score: 0.1961 - recall: 0.1999 - val_loss: 0.0496 - val_sparse_categorical_accuracy: 0.9916 - val_precision: 0.1994 - val_f1_score: 0.1964 - val_recall: 0.2000\n",
            "Epoch 34/100\n",
            "5172/5172 [==============================] - 15s 3ms/step - loss: 0.0491 - sparse_categorical_accuracy: 0.9889 - precision: 0.1988 - f1_score: 0.1961 - recall: 0.1999 - val_loss: 0.0491 - val_sparse_categorical_accuracy: 0.9906 - val_precision: 0.1994 - val_f1_score: 0.1964 - val_recall: 0.1999\n",
            "Epoch 35/100\n",
            "5172/5172 [==============================] - 16s 3ms/step - loss: 0.0489 - sparse_categorical_accuracy: 0.9903 - precision: 0.1988 - f1_score: 0.1961 - recall: 0.1999 - val_loss: 0.0494 - val_sparse_categorical_accuracy: 0.9891 - val_precision: 0.1994 - val_f1_score: 0.1964 - val_recall: 0.2000\n",
            "Epoch 36/100\n",
            "5172/5172 [==============================] - 16s 3ms/step - loss: 0.0488 - sparse_categorical_accuracy: 0.9901 - precision: 0.1988 - f1_score: 0.1961 - recall: 0.1999 - val_loss: 0.0489 - val_sparse_categorical_accuracy: 0.9921 - val_precision: 0.1994 - val_f1_score: 0.1964 - val_recall: 0.1999\n",
            "Epoch 37/100\n",
            "5172/5172 [==============================] - 16s 3ms/step - loss: 0.0486 - sparse_categorical_accuracy: 0.9906 - precision: 0.1988 - f1_score: 0.1961 - recall: 0.1999 - val_loss: 0.0488 - val_sparse_categorical_accuracy: 0.9906 - val_precision: 0.1993 - val_f1_score: 0.1963 - val_recall: 0.1998\n",
            "Epoch 38/100\n",
            "5172/5172 [==============================] - 15s 3ms/step - loss: 0.0484 - sparse_categorical_accuracy: 0.9911 - precision: 0.1988 - f1_score: 0.1961 - recall: 0.1999 - val_loss: 0.0487 - val_sparse_categorical_accuracy: 0.9922 - val_precision: 0.1994 - val_f1_score: 0.1964 - val_recall: 0.1999\n",
            "Epoch 39/100\n",
            "5172/5172 [==============================] - 16s 3ms/step - loss: 0.0483 - sparse_categorical_accuracy: 0.9913 - precision: 0.1988 - f1_score: 0.1961 - recall: 0.1999 - val_loss: 0.0485 - val_sparse_categorical_accuracy: 0.9919 - val_precision: 0.1994 - val_f1_score: 0.1964 - val_recall: 0.1999\n",
            "Epoch 40/100\n",
            "5172/5172 [==============================] - 16s 3ms/step - loss: 0.0483 - sparse_categorical_accuracy: 0.9917 - precision: 0.1988 - f1_score: 0.1961 - recall: 0.1999 - val_loss: 0.0484 - val_sparse_categorical_accuracy: 0.9922 - val_precision: 0.1994 - val_f1_score: 0.1964 - val_recall: 0.1999\n",
            "Epoch 41/100\n",
            "5172/5172 [==============================] - 16s 3ms/step - loss: 0.0480 - sparse_categorical_accuracy: 0.9916 - precision: 0.1988 - f1_score: 0.1962 - recall: 0.1999 - val_loss: 0.0483 - val_sparse_categorical_accuracy: 0.9920 - val_precision: 0.1994 - val_f1_score: 0.1964 - val_recall: 0.1999\n",
            "Epoch 42/100\n",
            "5172/5172 [==============================] - 15s 3ms/step - loss: 0.0480 - sparse_categorical_accuracy: 0.9917 - precision: 0.1988 - f1_score: 0.1960 - recall: 0.1999 - val_loss: 0.0483 - val_sparse_categorical_accuracy: 0.9922 - val_precision: 0.1994 - val_f1_score: 0.1964 - val_recall: 0.1999\n",
            "Epoch 43/100\n",
            "5172/5172 [==============================] - 17s 3ms/step - loss: 0.0479 - sparse_categorical_accuracy: 0.9917 - precision: 0.1988 - f1_score: 0.1962 - recall: 0.1999 - val_loss: 0.0484 - val_sparse_categorical_accuracy: 0.9922 - val_precision: 0.1994 - val_f1_score: 0.1964 - val_recall: 0.1999\n",
            "Epoch 44/100\n",
            "5172/5172 [==============================] - 17s 3ms/step - loss: 0.0478 - sparse_categorical_accuracy: 0.9921 - precision: 0.1988 - f1_score: 0.1961 - recall: 0.1999 - val_loss: 0.0480 - val_sparse_categorical_accuracy: 0.9922 - val_precision: 0.1994 - val_f1_score: 0.1964 - val_recall: 0.1999\n",
            "Epoch 45/100\n",
            "5172/5172 [==============================] - 15s 3ms/step - loss: 0.0477 - sparse_categorical_accuracy: 0.9919 - precision: 0.1988 - f1_score: 0.1962 - recall: 0.1999 - val_loss: 0.0489 - val_sparse_categorical_accuracy: 0.9920 - val_precision: 0.1994 - val_f1_score: 0.1964 - val_recall: 0.1999\n",
            "Epoch 46/100\n",
            "5172/5172 [==============================] - 16s 3ms/step - loss: 0.0476 - sparse_categorical_accuracy: 0.9921 - precision: 0.1988 - f1_score: 0.1962 - recall: 0.1999 - val_loss: 0.0489 - val_sparse_categorical_accuracy: 0.9920 - val_precision: 0.1994 - val_f1_score: 0.1964 - val_recall: 0.2000\n",
            "Epoch 47/100\n",
            "5172/5172 [==============================] - 15s 3ms/step - loss: 0.0476 - sparse_categorical_accuracy: 0.9923 - precision: 0.1988 - f1_score: 0.1962 - recall: 0.1999 - val_loss: 0.0479 - val_sparse_categorical_accuracy: 0.9921 - val_precision: 0.1994 - val_f1_score: 0.1964 - val_recall: 0.1999\n",
            "Epoch 48/100\n",
            "5172/5172 [==============================] - 15s 3ms/step - loss: 0.0475 - sparse_categorical_accuracy: 0.9922 - precision: 0.1988 - f1_score: 0.1961 - recall: 0.1999 - val_loss: 0.0481 - val_sparse_categorical_accuracy: 0.9922 - val_precision: 0.1994 - val_f1_score: 0.1964 - val_recall: 0.1999\n",
            "Epoch 49/100\n",
            "5172/5172 [==============================] - 16s 3ms/step - loss: 0.0475 - sparse_categorical_accuracy: 0.9922 - precision: 0.1988 - f1_score: 0.1960 - recall: 0.1999 - val_loss: 0.0478 - val_sparse_categorical_accuracy: 0.9922 - val_precision: 0.1994 - val_f1_score: 0.1964 - val_recall: 0.1999\n",
            "Epoch 50/100\n",
            "5172/5172 [==============================] - 16s 3ms/step - loss: 0.0474 - sparse_categorical_accuracy: 0.9922 - precision: 0.1988 - f1_score: 0.1962 - recall: 0.1999 - val_loss: 0.0477 - val_sparse_categorical_accuracy: 0.9923 - val_precision: 0.1994 - val_f1_score: 0.1964 - val_recall: 0.1999\n",
            "Epoch 51/100\n",
            "5169/5172 [============================>.] - ETA: 0s - loss: 0.0473 - sparse_categorical_accuracy: 0.9923 - precision: 0.1988 - f1_score: 0.1961 - recall: 0.1999"
          ]
        }
      ],
      "source": [
        "# start_time = time.time()\n",
        "# model.fit(X_train,Y_train.values.ravel())\n",
        "# end_time = time.time()\n",
        "model.fit(X_train, \n",
        "          Y_train,  \n",
        "          epochs=100,\n",
        "          batch_size=64,\n",
        "          validation_data=(X_test, Y_test),)"
      ]
    },
    {
      "cell_type": "code",
      "execution_count": null,
      "metadata": {
        "colab": {
          "base_uri": "https://localhost:8080/"
        },
        "id": "wRmuGa21WbYT",
        "outputId": "15a925e8-c323-4e82-8c67-fe474a75b1cf"
      },
      "outputs": [
        {
          "name": "stdout",
          "output_type": "stream",
          "text": [
            "Testing time:  1126.238519668579\n"
          ]
        }
      ],
      "source": [
        "print(\"Testing time: \",end_time-start_time)"
      ]
    },
    {
      "cell_type": "code",
      "execution_count": null,
      "metadata": {
        "colab": {
          "base_uri": "https://localhost:8080/"
        },
        "id": "VIKvYWPxWeOV",
        "outputId": "7f5d14d7-f14e-4bbf-eb5f-eb84b985c568"
      },
      "outputs": [
        {
          "name": "stdout",
          "output_type": "stream",
          "text": [
            "10344/10344 [==============================] - 15s 1ms/step\n"
          ]
        }
      ],
      "source": [
        "start_time = time.time()\n",
        "Y_train_pred = model.predict(X_train)\n",
        "end_time = time.time()"
      ]
    },
    {
      "cell_type": "code",
      "execution_count": null,
      "metadata": {
        "colab": {
          "base_uri": "https://localhost:8080/"
        },
        "id": "msuEO05Xmrf_",
        "outputId": "d153cab3-f87b-4bb0-ac95-b82c4b51b889"
      },
      "outputs": [
        {
          "data": {
            "text/plain": [
              "array([[1.2111398e-12, 9.9820650e-01, 1.1026868e-05, 1.6984573e-03,\n",
              "        8.3992818e-05],\n",
              "       [9.9994761e-01, 8.1924625e-24, 5.2282769e-05, 1.1839557e-10,\n",
              "        2.2821016e-12],\n",
              "       [9.9994761e-01, 8.1924625e-24, 5.2282769e-05, 1.1839557e-10,\n",
              "        2.2821016e-12],\n",
              "       ...,\n",
              "       [9.9994761e-01, 8.1924625e-24, 5.2282769e-05, 1.1839557e-10,\n",
              "        2.2821016e-12],\n",
              "       [9.1335468e-13, 9.9842286e-01, 9.1051152e-06, 1.4939404e-03,\n",
              "        7.4123280e-05],\n",
              "       [9.9994421e-01, 1.0043250e-23, 5.5816861e-05, 1.3229315e-10,\n",
              "        2.5560626e-12]], dtype=float32)"
            ]
          },
          "execution_count": 111,
          "metadata": {},
          "output_type": "execute_result"
        }
      ],
      "source": []
    },
    {
      "cell_type": "code",
      "execution_count": null,
      "metadata": {
        "colab": {
          "base_uri": "https://localhost:8080/"
        },
        "id": "LVT5S8KZW3d6",
        "outputId": "bcc2d5b2-f905-4ec1-db2b-28d4c7094c29"
      },
      "outputs": [
        {
          "name": "stdout",
          "output_type": "stream",
          "text": [
            "5095/5095 [==============================] - 7s 1ms/step\n"
          ]
        }
      ],
      "source": [
        "start_time = time.time()\n",
        "Y_test_pred = model.predict(X_test)\n",
        "end_time = time.time()"
      ]
    },
    {
      "cell_type": "code",
      "execution_count": null,
      "metadata": {
        "colab": {
          "base_uri": "https://localhost:8080/"
        },
        "id": "KUV0R_E5WwKm",
        "outputId": "bd7de238-3bd7-4290-8d46-81cb428fd41e"
      },
      "outputs": [
        {
          "name": "stdout",
          "output_type": "stream",
          "text": [
            "5095/5095 - 6s - loss: 0.0097 - sparse_categorical_accuracy: 0.9986 - 6s/epoch - 1ms/step\n"
          ]
        }
      ],
      "source": [
        "# accuracy_score(Y_test,Y_test_pred)\n",
        "loss, acc = model.evaluate(X_test, Y_test, verbose=2)"
      ]
    },
    {
      "cell_type": "code",
      "execution_count": null,
      "metadata": {
        "colab": {
          "base_uri": "https://localhost:8080/"
        },
        "id": "wTkVIoSSnPiB",
        "outputId": "30ce535a-d8fa-440a-d887-8725feeb08ac"
      },
      "outputs": [
        {
          "name": "stdout",
          "output_type": "stream",
          "text": [
            "Restored model, accuracy: 99.86%\n"
          ]
        }
      ],
      "source": [
        "print(\"Restored model, accuracy: {:5.2f}%\".format(100 * acc))"
      ]
    },
    {
      "cell_type": "code",
      "execution_count": null,
      "metadata": {
        "id": "mUZUIhG4nX3D"
      },
      "outputs": [],
      "source": []
    },
    {
      "cell_type": "code",
      "execution_count": null,
      "metadata": {
        "id": "Klmwhgbanjqs"
      },
      "outputs": [],
      "source": [
        "!mkdir -p saved_model\n",
        "model.save('saved_model/my_model')"
      ]
    },
    {
      "cell_type": "code",
      "execution_count": null,
      "metadata": {
        "colab": {
          "base_uri": "https://localhost:8080/"
        },
        "id": "6yHJ9Cion2qE",
        "outputId": "414d1daf-b4b1-4a8b-e8fa-8e869c1f31d2"
      },
      "outputs": [
        {
          "name": "stdout",
          "output_type": "stream",
          "text": [
            "Model: \"sequential_18\"\n",
            "_________________________________________________________________\n",
            " Layer (type)                Output Shape              Param #   \n",
            "=================================================================\n",
            " dense_52 (Dense)            (None, 30)                930       \n",
            "                                                                 \n",
            " dense_53 (Dense)            (None, 1)                 31        \n",
            "                                                                 \n",
            " dense_54 (Dense)            (None, 5)                 10        \n",
            "                                                                 \n",
            "=================================================================\n",
            "Total params: 971\n",
            "Trainable params: 971\n",
            "Non-trainable params: 0\n",
            "_________________________________________________________________\n"
          ]
        }
      ],
      "source": [
        "new_model = tf.keras.models.load_model('saved_model/my_model')\n",
        "\n",
        "# Check its architecture\n",
        "new_model.summary()"
      ]
    },
    {
      "cell_type": "code",
      "execution_count": null,
      "metadata": {
        "colab": {
          "base_uri": "https://localhost:8080/"
        },
        "id": "k0ZtYqZ7n_ja",
        "outputId": "45ec2bf7-3e3c-47e7-cfbf-3bc51aa7550d"
      },
      "outputs": [
        {
          "name": "stderr",
          "output_type": "stream",
          "text": [
            "/usr/local/lib/python3.8/dist-packages/tensorflow/python/util/dispatch.py:1082: UserWarning: \"`sparse_categorical_crossentropy` received `from_logits=True`, but the `output` argument was produced by a sigmoid or softmax activation and thus does not represent logits. Was this intended?\"\n",
            "  return dispatch_target(*args, **kwargs)\n"
          ]
        },
        {
          "name": "stdout",
          "output_type": "stream",
          "text": [
            "5095/5095 - 6s - loss: 0.0097 - sparse_categorical_accuracy: 0.9986 - 6s/epoch - 1ms/step\n"
          ]
        }
      ],
      "source": [
        "loss, acc = new_model.evaluate(X_test, Y_test, verbose=2)"
      ]
    },
    {
      "cell_type": "code",
      "execution_count": null,
      "metadata": {
        "colab": {
          "base_uri": "https://localhost:8080/",
          "height": 337
        },
        "id": "fbTuFvAVWiX4",
        "outputId": "1c354bc7-e6dc-47ab-b81f-3dcdcc535d9b"
      },
      "outputs": [
        {
          "data": {
            "text/plain": [
              "<BarContainer object of 1 artists>"
            ]
          },
          "execution_count": 51,
          "metadata": {},
          "output_type": "execute_result"
        },
        {
          "data": {
            "image/png": "[encoded data removed]",
            "text/plain": [
              "<Figure size 360x360 with 1 Axes>"
            ]
          },
          "metadata": {
            "needs_background": "light"
          },
          "output_type": "display_data"
        }
      ],
      "source": [
        "names = ['ANN']\n",
        "values = [98.485]\n",
        "f = plt.figure(figsize=(5,5),num=1)\n",
        "plt.subplot(131)\n",
        "plt.ylim(80,102)\n",
        "plt.bar(names,values)"
      ]
    }
  ],
  "metadata": {
    "colab": {
      "provenance": [],
      "include_colab_link": true
    },
    "kernelspec": {
      "display_name": "Python 3 (ipykernel)",
      "language": "python",
      "name": "python3"
    },
    "language_info": {
      "codemirror_mode": {
        "name": "ipython",
        "version": 3
      },
      "file_extension": ".py",
      "mimetype": "text/x-python",
      "name": "python",
      "nbconvert_exporter": "python",
      "pygments_lexer": "ipython3",
      "version": "3.8.10"
    },
    "vscode": {
      "interpreter": {
        "hash": "275585cdcba9924c9c6e8df50545090134669d632506161f1f4ca47ec00107b7"
      }
    }
  },
  "nbformat": 4,
  "nbformat_minor": 0
}